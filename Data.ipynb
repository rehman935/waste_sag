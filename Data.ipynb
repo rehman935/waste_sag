{
 "cells": [
  {
   "cell_type": "markdown",
   "metadata": {},
   "source": [
    "# Importing Packages and Libraries"
   ]
  },
  {
   "cell_type": "code",
   "execution_count": 1,
   "metadata": {},
   "outputs": [],
   "source": [
    "import numpy as np\n",
    "import os\n",
    "import pandas as pd\n",
    "import cv2\n",
    "import matplotlib.pyplot as plt\n",
    "from tqdm import tqdm"
   ]
  },
  {
   "cell_type": "markdown",
   "metadata": {},
   "source": [
    "# Defining Some Paths"
   ]
  },
  {
   "cell_type": "code",
   "execution_count": 2,
   "metadata": {},
   "outputs": [],
   "source": [
    "Path_train = os.path.join(\"./train/images\")\n",
    "Path_val = os.path.join(\"./valid/images\")\n",
    "Path_test = os.path.join(\"./test/images\")"
   ]
  },
  {
   "cell_type": "markdown",
   "metadata": {},
   "source": [
    "# Appending Images to lists to view shapes, length etc"
   ]
  },
  {
   "cell_type": "code",
   "execution_count": 18,
   "metadata": {},
   "outputs": [
    {
     "name": "stderr",
     "output_type": "stream",
     "text": [
      "4200it [00:01, 2182.78it/s]\n",
      "1704it [00:00, 2203.43it/s]\n",
      "100it [00:00, 2214.85it/s]\n"
     ]
    }
   ],
   "source": [
    "Common_File_Shapes = []\n",
    "for idxFile, File in tqdm(enumerate(os.listdir(Path_train))):\n",
    "    File_Content = cv2.imread(os.path.join(Path_train, File))\n",
    "    Shape = np.shape(File_Content)\n",
    "    Common_File_Shapes.append(Shape)\n",
    "\n",
    "for idxFile, File in tqdm(enumerate(os.listdir(Path_val))):   \n",
    "    File_Content = cv2.imread(os.path.join(Path_val, File))\n",
    "    Shape = np.shape(File_Content)\n",
    "    Common_File_Shapes.append(Shape)\n",
    "\n",
    "for idxFile, File in tqdm(enumerate(os.listdir(Path_test))):   \n",
    "    File_Content = cv2.imread(os.path.join(Path_test, File))\n",
    "    Shape = np.shape(File_Content)\n",
    "    Common_File_Shapes.append(Shape)"
   ]
  },
  {
   "cell_type": "markdown",
   "metadata": {},
   "source": [
    "Total Image Count = 6004, 4200 in train, 1704 in val, 100 in test"
   ]
  },
  {
   "cell_type": "code",
   "execution_count": 19,
   "metadata": {},
   "outputs": [
    {
     "name": "stdout",
     "output_type": "stream",
     "text": [
      "Total Images Count: 6004\n"
     ]
    }
   ],
   "source": [
    "print(f'Total Images Count: {len(Common_File_Shapes)}')"
   ]
  },
  {
   "cell_type": "code",
   "execution_count": 22,
   "metadata": {},
   "outputs": [
    {
     "name": "stdout",
     "output_type": "stream",
     "text": [
      "[  3 416]\n"
     ]
    }
   ],
   "source": [
    "print(np.unique(Common_File_Shapes))"
   ]
  },
  {
   "cell_type": "code",
   "execution_count": 25,
   "metadata": {},
   "outputs": [
    {
     "name": "stdout",
     "output_type": "stream",
     "text": [
      "Width: 416, Height: 416\n"
     ]
    }
   ],
   "source": [
    "images_width, images_height = Common_File_Shapes[0][0], Common_File_Shapes[0][1]\n",
    "print(f'Width: {images_width}, Height: {images_height}')"
   ]
  }
 ],
 "metadata": {
  "kernelspec": {
   "display_name": "env",
   "language": "python",
   "name": "python3"
  },
  "language_info": {
   "codemirror_mode": {
    "name": "ipython",
    "version": 3
   },
   "file_extension": ".py",
   "mimetype": "text/x-python",
   "name": "python",
   "nbconvert_exporter": "python",
   "pygments_lexer": "ipython3",
   "version": "3.11.7"
  }
 },
 "nbformat": 4,
 "nbformat_minor": 2
}
