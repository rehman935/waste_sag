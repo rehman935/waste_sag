{
 "cells": [
  {
   "cell_type": "markdown",
   "metadata": {},
   "source": [
    "# Installing Packages"
   ]
  },
  {
   "cell_type": "code",
   "execution_count": 1,
   "metadata": {},
   "outputs": [
    {
     "name": "stdout",
     "output_type": "stream",
     "text": [
      "Requirement already satisfied: ultralytics in /opt/anaconda3/lib/python3.11/site-packages (8.2.77)\n",
      "Requirement already satisfied: numpy<2.0.0,>=1.23.0 in /opt/anaconda3/lib/python3.11/site-packages (from ultralytics) (1.24.4)\n",
      "Requirement already satisfied: matplotlib>=3.3.0 in /opt/anaconda3/lib/python3.11/site-packages (from ultralytics) (3.8.0)\n",
      "Requirement already satisfied: opencv-python>=4.6.0 in /opt/anaconda3/lib/python3.11/site-packages (from ultralytics) (4.9.0.80)\n",
      "Requirement already satisfied: pillow>=7.1.2 in /opt/anaconda3/lib/python3.11/site-packages (from ultralytics) (10.2.0)\n",
      "Requirement already satisfied: pyyaml>=5.3.1 in /opt/anaconda3/lib/python3.11/site-packages (from ultralytics) (6.0.1)\n",
      "Requirement already satisfied: requests>=2.23.0 in /opt/anaconda3/lib/python3.11/site-packages (from ultralytics) (2.31.0)\n",
      "Requirement already satisfied: scipy>=1.4.1 in /opt/anaconda3/lib/python3.11/site-packages (from ultralytics) (1.11.4)\n",
      "Requirement already satisfied: torch>=1.8.0 in /opt/anaconda3/lib/python3.11/site-packages (from ultralytics) (2.4.0)\n",
      "Requirement already satisfied: torchvision>=0.9.0 in /opt/anaconda3/lib/python3.11/site-packages (from ultralytics) (0.19.0)\n",
      "Requirement already satisfied: tqdm>=4.64.0 in /opt/anaconda3/lib/python3.11/site-packages (from ultralytics) (4.65.0)\n",
      "Requirement already satisfied: psutil in /opt/anaconda3/lib/python3.11/site-packages (from ultralytics) (5.9.0)\n",
      "Requirement already satisfied: py-cpuinfo in /opt/anaconda3/lib/python3.11/site-packages (from ultralytics) (9.0.0)\n",
      "Requirement already satisfied: pandas>=1.1.4 in /opt/anaconda3/lib/python3.11/site-packages (from ultralytics) (2.1.4)\n",
      "Requirement already satisfied: seaborn>=0.11.0 in /opt/anaconda3/lib/python3.11/site-packages (from ultralytics) (0.12.2)\n",
      "Requirement already satisfied: ultralytics-thop>=2.0.0 in /opt/anaconda3/lib/python3.11/site-packages (from ultralytics) (2.0.0)\n",
      "Requirement already satisfied: contourpy>=1.0.1 in /opt/anaconda3/lib/python3.11/site-packages (from matplotlib>=3.3.0->ultralytics) (1.2.0)\n",
      "Requirement already satisfied: cycler>=0.10 in /opt/anaconda3/lib/python3.11/site-packages (from matplotlib>=3.3.0->ultralytics) (0.11.0)\n",
      "Requirement already satisfied: fonttools>=4.22.0 in /opt/anaconda3/lib/python3.11/site-packages (from matplotlib>=3.3.0->ultralytics) (4.25.0)\n",
      "Requirement already satisfied: kiwisolver>=1.0.1 in /opt/anaconda3/lib/python3.11/site-packages (from matplotlib>=3.3.0->ultralytics) (1.4.4)\n",
      "Requirement already satisfied: packaging>=20.0 in /opt/anaconda3/lib/python3.11/site-packages (from matplotlib>=3.3.0->ultralytics) (23.1)\n",
      "Requirement already satisfied: pyparsing>=2.3.1 in /opt/anaconda3/lib/python3.11/site-packages (from matplotlib>=3.3.0->ultralytics) (3.0.9)\n",
      "Requirement already satisfied: python-dateutil>=2.7 in /opt/anaconda3/lib/python3.11/site-packages (from matplotlib>=3.3.0->ultralytics) (2.8.2)\n",
      "Requirement already satisfied: pytz>=2020.1 in /opt/anaconda3/lib/python3.11/site-packages (from pandas>=1.1.4->ultralytics) (2023.3.post1)\n",
      "Requirement already satisfied: tzdata>=2022.1 in /opt/anaconda3/lib/python3.11/site-packages (from pandas>=1.1.4->ultralytics) (2023.3)\n",
      "Requirement already satisfied: charset-normalizer<4,>=2 in /opt/anaconda3/lib/python3.11/site-packages (from requests>=2.23.0->ultralytics) (2.0.4)\n",
      "Requirement already satisfied: idna<4,>=2.5 in /opt/anaconda3/lib/python3.11/site-packages (from requests>=2.23.0->ultralytics) (3.4)\n",
      "Requirement already satisfied: urllib3<3,>=1.21.1 in /opt/anaconda3/lib/python3.11/site-packages (from requests>=2.23.0->ultralytics) (2.0.7)\n",
      "Requirement already satisfied: certifi>=2017.4.17 in /opt/anaconda3/lib/python3.11/site-packages (from requests>=2.23.0->ultralytics) (2024.2.2)\n",
      "Requirement already satisfied: filelock in /opt/anaconda3/lib/python3.11/site-packages (from torch>=1.8.0->ultralytics) (3.13.1)\n",
      "Requirement already satisfied: typing-extensions>=4.8.0 in /opt/anaconda3/lib/python3.11/site-packages (from torch>=1.8.0->ultralytics) (4.9.0)\n",
      "Requirement already satisfied: sympy in /opt/anaconda3/lib/python3.11/site-packages (from torch>=1.8.0->ultralytics) (1.12)\n",
      "Requirement already satisfied: networkx in /opt/anaconda3/lib/python3.11/site-packages (from torch>=1.8.0->ultralytics) (3.1)\n",
      "Requirement already satisfied: jinja2 in /opt/anaconda3/lib/python3.11/site-packages (from torch>=1.8.0->ultralytics) (3.1.3)\n",
      "Requirement already satisfied: fsspec in /opt/anaconda3/lib/python3.11/site-packages (from torch>=1.8.0->ultralytics) (2023.10.0)\n",
      "Requirement already satisfied: six>=1.5 in /opt/anaconda3/lib/python3.11/site-packages (from python-dateutil>=2.7->matplotlib>=3.3.0->ultralytics) (1.16.0)\n",
      "Requirement already satisfied: MarkupSafe>=2.0 in /opt/anaconda3/lib/python3.11/site-packages (from jinja2->torch>=1.8.0->ultralytics) (2.1.3)\n",
      "Requirement already satisfied: mpmath>=0.19 in /opt/anaconda3/lib/python3.11/site-packages (from sympy->torch>=1.8.0->ultralytics) (1.3.0)\n",
      "\n",
      "\u001b[1m[\u001b[0m\u001b[34;49mnotice\u001b[0m\u001b[1;39;49m]\u001b[0m\u001b[39;49m A new release of pip is available: \u001b[0m\u001b[31;49m24.0\u001b[0m\u001b[39;49m -> \u001b[0m\u001b[32;49m24.2\u001b[0m\n",
      "\u001b[1m[\u001b[0m\u001b[34;49mnotice\u001b[0m\u001b[1;39;49m]\u001b[0m\u001b[39;49m To update, run: \u001b[0m\u001b[32;49mpip install --upgrade pip\u001b[0m\n"
     ]
    }
   ],
   "source": [
    "# !pip install ultralytics"
   ]
  },
  {
   "cell_type": "markdown",
   "metadata": {},
   "source": [
    "# Importing Packages"
   ]
  },
  {
   "cell_type": "code",
   "execution_count": 3,
   "metadata": {},
   "outputs": [],
   "source": [
    "from ultralytics import YOLO\n",
    "import os\n",
    "import numpy as np\n",
    "from PIL import Image, ImageDraw, ImageFont\n",
    "import matplotlib.pyplot as plt"
   ]
  },
  {
   "cell_type": "markdown",
   "metadata": {},
   "source": [
    "# Loading a pre-trained Yolov8 model"
   ]
  },
  {
   "cell_type": "code",
   "execution_count": 4,
   "metadata": {},
   "outputs": [
    {
     "name": "stdout",
     "output_type": "stream",
     "text": [
      "Downloading https://github.com/ultralytics/assets/releases/download/v8.2.0/yolov8n.pt to 'yolov8n.pt'...\n"
     ]
    },
    {
     "name": "stderr",
     "output_type": "stream",
     "text": [
      "100%|██████████| 6.25M/6.25M [00:00<00:00, 30.8MB/s]\n"
     ]
    }
   ],
   "source": [
    "# Load a model\n",
    "model = YOLO(\"yolov8n.pt\")  # load a pretrained model (recommended for training)"
   ]
  },
  {
   "cell_type": "markdown",
   "metadata": {},
   "source": [
    "# Training the Model"
   ]
  },
  {
   "cell_type": "code",
   "execution_count": null,
   "metadata": {},
   "outputs": [],
   "source": [
    "# Train the model\n",
    "results = model.train(data=\"data.yaml\",\n",
    "                        epochs=100,\n",
    "                        imgsz=416,\n",
    "                        patience=10,\n",
    "                        batch=32,\n",
    "                        save=True,\n",
    "                        cache=False, #if batch size == 32, 32gb ram crashes\n",
    "                        project=\"runs_v8n/train\",\n",
    "                        pretrained=True,\n",
    "                        verbose=True,\n",
    "                        val=True,)"
   ]
  },
  {
   "cell_type": "markdown",
   "metadata": {},
   "source": [
    "# Validating the fine-tuned model on the valid set"
   ]
  },
  {
   "cell_type": "code",
   "execution_count": null,
   "metadata": {},
   "outputs": [],
   "source": [
    "# metrics = model.val()  # evaluate model performance on the validation set"
   ]
  },
  {
   "cell_type": "markdown",
   "metadata": {},
   "source": [
    "# Testing on some random examples of the test set"
   ]
  },
  {
   "cell_type": "markdown",
   "metadata": {},
   "source": [
    "### The below cell, has the entire actual 18 classes, just to get dictionary of labels from it"
   ]
  },
  {
   "cell_type": "code",
   "execution_count": 5,
   "metadata": {},
   "outputs": [
    {
     "data": {
      "text/plain": [
       "({'Aluminium foil': 0,\n",
       "  'Bottle cap': 1,\n",
       "  'Bottle': 2,\n",
       "  'Broken glass': 3,\n",
       "  'Can': 4,\n",
       "  'Carton': 5,\n",
       "  'Cigarette': 6,\n",
       "  'Cup': 7,\n",
       "  'Lid': 8,\n",
       "  'Other litter': 9,\n",
       "  'Other plastic': 10,\n",
       "  'Paper': 11,\n",
       "  'Plastic bag - wrapper': 12,\n",
       "  'Plastic container': 13,\n",
       "  'Pop tab': 14,\n",
       "  'Straw': 15,\n",
       "  'Styrofoam piece': 16,\n",
       "  'Unlabeled litter': 17},\n",
       " {0: 'Aluminium foil',\n",
       "  1: 'Bottle cap',\n",
       "  2: 'Bottle',\n",
       "  3: 'Broken glass',\n",
       "  4: 'Can',\n",
       "  5: 'Carton',\n",
       "  6: 'Cigarette',\n",
       "  7: 'Cup',\n",
       "  8: 'Lid',\n",
       "  9: 'Other litter',\n",
       "  10: 'Other plastic',\n",
       "  11: 'Paper',\n",
       "  12: 'Plastic bag - wrapper',\n",
       "  13: 'Plastic container',\n",
       "  14: 'Pop tab',\n",
       "  15: 'Straw',\n",
       "  16: 'Styrofoam piece',\n",
       "  17: 'Unlabeled litter'})"
      ]
     },
     "execution_count": 5,
     "metadata": {},
     "output_type": "execute_result"
    }
   ],
   "source": [
    "Data_Classes = ['Aluminium foil', 'Bottle cap', 'Bottle', 'Broken glass', 'Can', 'Carton', 'Cigarette', 'Cup', 'Lid', 'Other litter', 'Other plastic', 'Paper', 'Plastic bag - wrapper', 'Plastic container', 'Pop tab', 'Straw', 'Styrofoam piece', 'Unlabeled litter']\n",
    "\n",
    "# Creating label2idx dictionary\n",
    "Actual_label2idx = {label: idx for idx, label in enumerate(Data_Classes)}\n",
    "\n",
    "# Creating idx2label dictionary\n",
    "Actual_idx2label = {idx: label for idx, label in enumerate(Data_Classes)}\n",
    "\n",
    "Actual_label2idx, Actual_idx2label"
   ]
  },
  {
   "cell_type": "markdown",
   "metadata": {},
   "source": [
    "### Below cell has the custom filtered dataset labels"
   ]
  },
  {
   "cell_type": "code",
   "execution_count": 6,
   "metadata": {},
   "outputs": [],
   "source": [
    "filter_list = [\n",
    "    'Bottle cap',\n",
    "    'Bottle',\n",
    "    'Can',\n",
    "    'Carton',\n",
    "    'Cup',\n",
    "    'Paper',\n",
    "    'Straw',\n",
    "    'Unlabeled litter',\n",
    "]"
   ]
  },
  {
   "cell_type": "markdown",
   "metadata": {},
   "source": [
    "### In the cell below\n",
    "- We take some random examples from the test set\n",
    "- Get predictions on the images\n",
    "- Display the predicted image\n",
    "- Draw the actual labels (only those labels that we kept in the finetuning process)\n",
    "- Display the actual image (Note: you may see difference in colors of the Bounding boxes, because yolo uses random colors everytime)\n",
    "- Subplot of both the images size by side\n",
    "- Saved image in the folder = Local_Testing"
   ]
  },
  {
   "cell_type": "code",
   "execution_count": 7,
   "metadata": {},
   "outputs": [
    {
     "name": "stdout",
     "output_type": "stream",
     "text": [
      "\n",
      "image 1/1 /Users/rehmansarwar/Downloads/final_code/V1/test/images/000020_JPG_jpg.rf.ce797f2c6b83b0b782eca9948df6def1.jpg: 640x640 (no detections), 154.0ms\n",
      "Speed: 5.5ms preprocess, 154.0ms inference, 13.3ms postprocess per image at shape (1, 3, 640, 640)\n",
      "\n",
      "image 1/1 /Users/rehmansarwar/Downloads/final_code/V1/test/images/000002_JPG_jpg.rf.3b3330b9601052ca754674984f0b6da4.jpg: 640x640 1 cat, 1 book, 95.3ms\n",
      "Speed: 2.2ms preprocess, 95.3ms inference, 4.0ms postprocess per image at shape (1, 3, 640, 640)\n",
      "\n",
      "image 1/1 /Users/rehmansarwar/Downloads/final_code/V1/test/images/000012_JPG_jpg.rf.4dbfff1565881144195a6859c139f37b.jpg: 640x640 1 bird, 78.4ms\n",
      "Speed: 2.3ms preprocess, 78.4ms inference, 0.7ms postprocess per image at shape (1, 3, 640, 640)\n",
      "\n",
      "image 1/1 /Users/rehmansarwar/Downloads/final_code/V1/test/images/000011_jpg.rf.72bbc41da6ff87f886d8275520a5a359.jpg: 640x640 (no detections), 95.6ms\n",
      "Speed: 3.0ms preprocess, 95.6ms inference, 0.4ms postprocess per image at shape (1, 3, 640, 640)\n",
      "\n",
      "image 1/1 /Users/rehmansarwar/Downloads/final_code/V1/test/images/000006_jpg.rf.61e96be52fe75ad31cbcc08f6ef17a47.jpg: 640x640 (no detections), 88.5ms\n",
      "Speed: 2.6ms preprocess, 88.5ms inference, 0.4ms postprocess per image at shape (1, 3, 640, 640)\n"
     ]
    }
   ],
   "source": [
    "Path_Test_Set = './V1/test'\n",
    "\n",
    "Images_Path = os.path.join(Path_Test_Set, 'images')\n",
    "Labels_Path = os.path.join(Path_Test_Set, 'labels')\n",
    "\n",
    "Random_Images = os.listdir(Images_Path)\n",
    "Random_Labels = os.listdir(Labels_Path)\n",
    "\n",
    "Random_Images = np.random.choice(Random_Images, 5)\n",
    "Random_Labels = [filename[:-3] + 'txt' for filename in Random_Images]\n",
    "\n",
    "# Set the font size\n",
    "font_size = 30  # Adjust as needed\n",
    "try:\n",
    "    font = ImageFont.truetype(\"arial.ttf\", font_size)\n",
    "except IOError:\n",
    "    font = ImageFont.load_default(size=font_size)\n",
    "\n",
    "# Loop over the selected images and labels\n",
    "for image, label in zip(Random_Images, Random_Labels):\n",
    "    results = model.predict(source=os.path.join(Images_Path, image))\n",
    "    for result in results:\n",
    "        boxes = result.boxes  # Boxes object for bounding box outputs\n",
    "        masks = result.masks  # Masks object for segmentation masks outputs\n",
    "        probs = result.probs  # Class probabilities for classification outputs\n",
    "    \n",
    "    # Save the predicted results\n",
    "    os.makedirs('Local_Testing_v8n', exist_ok=True)\n",
    "    pred_img_path = os.path.join('Local_Testing_v8n', label[:-3] + 'jpg')\n",
    "    results[0].save(filename=pred_img_path)\n",
    "\n",
    "    # Now plot the actual labels\n",
    "    with open(os.path.join(Labels_Path, label)) as f:\n",
    "        lines = f.readlines()\n",
    "    \n",
    "    content_copy = lines.copy()\n",
    "    for line in lines:\n",
    "        label_id = int(line.split(\" \")[0])\n",
    "        if Actual_idx2label[label_id] not in filter_list:\n",
    "            content_copy.remove(line)\n",
    "    \n",
    "    # Open the image to draw bounding boxes\n",
    "    img = Image.open(os.path.join(Images_Path, image))\n",
    "    draw = ImageDraw.Draw(img)\n",
    "\n",
    "    # Draw the filtered bounding boxes on the image\n",
    "    for line in content_copy:\n",
    "        label_id, x_center, y_center, width, height = map(float, line.split())\n",
    "        \n",
    "        # Convert from relative to absolute coordinates\n",
    "        img_width, img_height = img.size\n",
    "        x_min = (x_center - width / 2) * img_width\n",
    "        x_max = (x_center + width / 2) * img_width\n",
    "        y_min = (y_center - height / 2) * img_height\n",
    "        y_max = (y_center + height / 2) * img_height\n",
    "        \n",
    "        # Draw the bounding box\n",
    "        draw.rectangle([x_min, y_min, x_max, y_max], outline=\"red\", width=3)\n",
    "\n",
    "        # Write text\n",
    "        draw.text((x_min, y_min), Actual_idx2label[int(label_id)], font=font, fill=\"red\")\n",
    "    \n",
    "    # Save the image with drawn bounding boxes\n",
    "    actual_img_path = os.path.join('Local_Testing_v8n', 'Actual_' + image)\n",
    "    img.save(actual_img_path)\n",
    "    \n",
    "    # Create a subplot with the predicted and actual images side by side\n",
    "    pred_img = Image.open(pred_img_path)\n",
    "    actual_img = Image.open(actual_img_path)\n",
    "    \n",
    "    fig, axs = plt.subplots(1, 2, figsize=(15, 10))\n",
    "    \n",
    "    axs[0].imshow(pred_img)\n",
    "    axs[0].set_title('Predicted')\n",
    "    axs[0].axis('off')\n",
    "    \n",
    "    axs[1].imshow(actual_img)\n",
    "    axs[1].set_title('Actual')\n",
    "    axs[1].axis('off')\n",
    "    \n",
    "    plt.tight_layout()\n",
    "    \n",
    "    # Save the combined plot\n",
    "    combined_img_path = os.path.join('Local_Testing_v8n', 'Combined_' + image)\n",
    "    plt.savefig(combined_img_path)\n",
    "    plt.close()"
   ]
  },
  {
   "cell_type": "code",
   "execution_count": null,
   "metadata": {},
   "outputs": [],
   "source": [
    "from ultralytics import YOLO\n",
    "model = YOLO(\"./runs_v8n/train/train/weights/best.pt\")\n",
    "path = model.export(format=\"onnx\")"
   ]
  }
 ],
 "metadata": {
  "kernelspec": {
   "display_name": "env",
   "language": "python",
   "name": "python3"
  },
  "language_info": {
   "codemirror_mode": {
    "name": "ipython",
    "version": 3
   },
   "file_extension": ".py",
   "mimetype": "text/x-python",
   "name": "python",
   "nbconvert_exporter": "python",
   "pygments_lexer": "ipython3",
   "version": "3.11.7"
  }
 },
 "nbformat": 4,
 "nbformat_minor": 2
}
